{
  "nbformat": 4,
  "nbformat_minor": 0,
  "metadata": {
    "colab": {
      "name": "P03_video_games_analysis_in_pandas.ipynb",
      "provenance": [],
      "collapsed_sections": []
    },
    "kernelspec": {
      "name": "python3",
      "display_name": "Python 3"
    }
  },
  "cells": [
    {
      "cell_type": "code",
      "metadata": {
        "id": "Z7eSHdOEMtsL",
        "colab_type": "code",
        "colab": {}
      },
      "source": [
        "# this line is a comment line # sign turns lines into comments\n",
        "\n",
        "# import libraries, after improting you can use pd for pandas or np for numpy\n",
        "import pandas as pd\n",
        "import numpy as np"
      ],
      "execution_count": 0,
      "outputs": []
    },
    {
      "cell_type": "code",
      "metadata": {
        "id": "pf4MjyUqM1t6",
        "colab_type": "code",
        "outputId": "948b4a05-1f1f-4653-e134-133080d5e6ed",
        "colab": {
          "base_uri": "https://localhost:8080/",
          "height": 204
        }
      },
      "source": [
        "# import movie.csv file from github repo as pandas framework and assign to variable 'movie'\n",
        "games = pd.read_csv('https://raw.githubusercontent.com/gizemdal/dsgn337_p03/master/vgsales_2.csv')\n",
        "# display a preview of the imported data\n",
        "games.head()"
      ],
      "execution_count": 16,
      "outputs": [
        {
          "output_type": "execute_result",
          "data": {
            "text/html": [
              "<div>\n",
              "<style scoped>\n",
              "    .dataframe tbody tr th:only-of-type {\n",
              "        vertical-align: middle;\n",
              "    }\n",
              "\n",
              "    .dataframe tbody tr th {\n",
              "        vertical-align: top;\n",
              "    }\n",
              "\n",
              "    .dataframe thead th {\n",
              "        text-align: right;\n",
              "    }\n",
              "</style>\n",
              "<table border=\"1\" class=\"dataframe\">\n",
              "  <thead>\n",
              "    <tr style=\"text-align: right;\">\n",
              "      <th></th>\n",
              "      <th>Rank</th>\n",
              "      <th>Name</th>\n",
              "      <th>Platform</th>\n",
              "      <th>Year</th>\n",
              "      <th>Genre</th>\n",
              "      <th>Publisher</th>\n",
              "      <th>NA_Sales</th>\n",
              "      <th>EU_Sales</th>\n",
              "      <th>JP_Sales</th>\n",
              "      <th>Other_Sales</th>\n",
              "      <th>Global_Sales</th>\n",
              "    </tr>\n",
              "  </thead>\n",
              "  <tbody>\n",
              "    <tr>\n",
              "      <th>0</th>\n",
              "      <td>1</td>\n",
              "      <td>Wii Sports</td>\n",
              "      <td>Wii</td>\n",
              "      <td>2006.0</td>\n",
              "      <td>Sports</td>\n",
              "      <td>Nintendo</td>\n",
              "      <td>41.49</td>\n",
              "      <td>29.02</td>\n",
              "      <td>3.77</td>\n",
              "      <td>8.46</td>\n",
              "      <td>82.74</td>\n",
              "    </tr>\n",
              "    <tr>\n",
              "      <th>1</th>\n",
              "      <td>2</td>\n",
              "      <td>Super Mario Bros.</td>\n",
              "      <td>NES</td>\n",
              "      <td>1985.0</td>\n",
              "      <td>Platform</td>\n",
              "      <td>Nintendo</td>\n",
              "      <td>29.08</td>\n",
              "      <td>3.58</td>\n",
              "      <td>6.81</td>\n",
              "      <td>0.77</td>\n",
              "      <td>40.24</td>\n",
              "    </tr>\n",
              "    <tr>\n",
              "      <th>2</th>\n",
              "      <td>3</td>\n",
              "      <td>Mario Kart Wii</td>\n",
              "      <td>Wii</td>\n",
              "      <td>2008.0</td>\n",
              "      <td>Racing</td>\n",
              "      <td>Nintendo</td>\n",
              "      <td>15.85</td>\n",
              "      <td>12.88</td>\n",
              "      <td>3.79</td>\n",
              "      <td>3.31</td>\n",
              "      <td>35.82</td>\n",
              "    </tr>\n",
              "    <tr>\n",
              "      <th>3</th>\n",
              "      <td>4</td>\n",
              "      <td>Wii Sports Resort</td>\n",
              "      <td>Wii</td>\n",
              "      <td>2009.0</td>\n",
              "      <td>Sports</td>\n",
              "      <td>Nintendo</td>\n",
              "      <td>15.75</td>\n",
              "      <td>11.01</td>\n",
              "      <td>3.28</td>\n",
              "      <td>2.96</td>\n",
              "      <td>33.00</td>\n",
              "    </tr>\n",
              "    <tr>\n",
              "      <th>4</th>\n",
              "      <td>5</td>\n",
              "      <td>Pokemon Red/Pokemon Blue</td>\n",
              "      <td>GB</td>\n",
              "      <td>1996.0</td>\n",
              "      <td>Role-Playing</td>\n",
              "      <td>Nintendo</td>\n",
              "      <td>11.27</td>\n",
              "      <td>8.89</td>\n",
              "      <td>10.22</td>\n",
              "      <td>1.00</td>\n",
              "      <td>31.37</td>\n",
              "    </tr>\n",
              "  </tbody>\n",
              "</table>\n",
              "</div>"
            ],
            "text/plain": [
              "   Rank                      Name Platform  ...  JP_Sales Other_Sales Global_Sales\n",
              "0     1                Wii Sports      Wii  ...      3.77        8.46        82.74\n",
              "1     2         Super Mario Bros.      NES  ...      6.81        0.77        40.24\n",
              "2     3            Mario Kart Wii      Wii  ...      3.79        3.31        35.82\n",
              "3     4         Wii Sports Resort      Wii  ...      3.28        2.96        33.00\n",
              "4     5  Pokemon Red/Pokemon Blue       GB  ...     10.22        1.00        31.37\n",
              "\n",
              "[5 rows x 11 columns]"
            ]
          },
          "metadata": {
            "tags": []
          },
          "execution_count": 16
        }
      ]
    },
    {
      "cell_type": "code",
      "metadata": {
        "id": "g-Az7cryOXbj",
        "colab_type": "code",
        "outputId": "947ea068-156b-4e62-fed2-debca0681ea8",
        "colab": {
          "base_uri": "https://localhost:8080/",
          "height": 233
        }
      },
      "source": [
        "# you can see data types for all columns with dtypes command\n",
        "games.dtypes"
      ],
      "execution_count": 17,
      "outputs": [
        {
          "output_type": "execute_result",
          "data": {
            "text/plain": [
              "Rank              int64\n",
              "Name             object\n",
              "Platform         object\n",
              "Year            float64\n",
              "Genre            object\n",
              "Publisher        object\n",
              "NA_Sales        float64\n",
              "EU_Sales        float64\n",
              "JP_Sales        float64\n",
              "Other_Sales     float64\n",
              "Global_Sales    float64\n",
              "dtype: object"
            ]
          },
          "metadata": {
            "tags": []
          },
          "execution_count": 17
        }
      ]
    },
    {
      "cell_type": "code",
      "metadata": {
        "id": "LvUlQd2SOh-e",
        "colab_type": "code",
        "colab": {}
      },
      "source": [
        "# assign year to a variable\n",
        "year = games['Year'] # save Series to variable\n",
        "\n",
        "# From here we know that our year interval is [1980, 2020]\n",
        "all_years = pd.unique(year)\n",
        "\n",
        "# Don't include data after 2016\n",
        "year_interval = [x for x in range(1980, 2017)]\n",
        "\n",
        "# list of unique genres\n",
        "all_genres = pd.unique(games['Genre'])\n",
        "\n",
        "global_sales = games['Global_Sales']"
      ],
      "execution_count": 0,
      "outputs": []
    },
    {
      "cell_type": "code",
      "metadata": {
        "id": "ar0hScwbPoNr",
        "colab_type": "code",
        "colab": {}
      },
      "source": [
        "# assign platform to a variable\n",
        "platform = games['Platform']\n",
        "\n",
        "# array of all unique platforms\n",
        "all_platforms = pd.unique(platform)"
      ],
      "execution_count": 0,
      "outputs": []
    },
    {
      "cell_type": "code",
      "metadata": {
        "id": "rU7h2wvPQZ3A",
        "colab_type": "code",
        "colab": {}
      },
      "source": [
        "# Create a platform -> number of games per year list, where index 0 -> 1980, index 1 -> 1981 ...\n",
        "p_num_dict = {}\n",
        "\n",
        "# Create a platform -> number of global sales per year list, where index 0 -> 1980, index 1 -> 1981 ...\n",
        "p_sales_dict = {}\n",
        "\n",
        "# Initialize values as zero arrays with num_years zeros (one zero per year)\n",
        "for p in all_platforms:\n",
        "  p_num_dict[p] = np.zeros(len(year_interval))\n",
        "  p_sales_dict[p] = np.zeros(len(year_interval))\n",
        "\n",
        "df = pd.DataFrame(games)\n",
        "for tag, info in df.iterrows():\n",
        "  if pd.isna(info['Year']):\n",
        "    continue\n",
        "  if int(info['Year']) > 2016:\n",
        "    continue # Don't include data after 2016\n",
        "  i_year = int(info['Year'])\n",
        "  year_idx = i_year - 1980\n",
        "  # get platform\n",
        "  p = info['Platform']\n",
        "  p_num_dict[p][year_idx] += 1\n",
        "  p_sales_dict[p][year_idx] += float(info['Global_Sales'])\n"
      ],
      "execution_count": 0,
      "outputs": []
    },
    {
      "cell_type": "code",
      "metadata": {
        "id": "w9H1dDdlXhr6",
        "colab_type": "code",
        "colab": {}
      },
      "source": [
        "# Export data frame\n",
        "from google.colab import files\n",
        "\n",
        "platform_years = {}\n",
        "\n",
        "# add platform name column\n",
        "platform_years['Platform'] = all_platforms.tolist()\n",
        "\n",
        "# for every year add another column\n",
        "for i in range(len(year_interval)):\n",
        "  sales = []\n",
        "  for p in platform_years['Platform']:\n",
        "    sales.append(p_sales_dict[p][i])\n",
        "  platform_years['year_' + str(year_interval[i])] = sales\n",
        "\n",
        "df = pd.DataFrame(platform_years, columns=platform_years.keys())\n",
        "df.to_csv('platform_years.csv')\n",
        "files.download('platform_years.csv')"
      ],
      "execution_count": 0,
      "outputs": []
    },
    {
      "cell_type": "code",
      "metadata": {
        "id": "vMc9c2USmLAM",
        "colab_type": "code",
        "colab": {}
      },
      "source": [
        "# Sales per year dictionary\n",
        "\n",
        "year_sales = {}\n",
        "\n",
        "# for each year create an entry with initial value zero\n",
        "\n",
        "for year in year_interval:\n",
        "  year_sales[year] = 0\n",
        "\n",
        "# for each game check year and add global sales for year\n",
        "df = pd.DataFrame(games)\n",
        "for tag, info in df.iterrows():\n",
        "  if pd.isna(info['Year']):\n",
        "    continue\n",
        "  if int(info['Year']) > 2016:\n",
        "    continue # Don't include data after 2016\n",
        "  year_sales[info['Year']] += info['Global_Sales']\n",
        "\n",
        "# Create new data frame and export it as CSV file\n",
        "df_dict = {'Year': year_interval, 'Sales': list(year_sales.values())}\n",
        "df_sales = pd.DataFrame(df_dict, columns=['Year', 'Sales'])\n",
        "df_sales.to_csv('years_and_global_sales.csv')\n",
        "files.download('years_and_global_sales.csv')"
      ],
      "execution_count": 0,
      "outputs": []
    },
    {
      "cell_type": "code",
      "metadata": {
        "id": "Bi1FJRgqmZ7J",
        "colab_type": "code",
        "colab": {}
      },
      "source": [
        "# Genres per year dictionary\n",
        "top_genres_per_year = {}\n",
        "\n",
        "year_genres = {} # Dictionary that keeps num of genre games per year\n",
        "\n",
        "# for each genre, create dictionary entry\n",
        "for genre in all_genres:\n",
        "  year_genres[genre] = np.zeros(len(year_interval), dtype=float)\n",
        "\n",
        "for tag, info in df.iterrows():\n",
        "  if pd.isna(info['Genre']) or pd.isna(info['Year']):\n",
        "    continue\n",
        "  year_val = int(info['Year'])\n",
        "  if year_val > 2016:\n",
        "    continue # Don't include data after 2016\n",
        "  year_genres[info['Genre']][year_val - 1980] += info['Global_Sales']\n",
        "\n",
        "# Fill in top genres per year\n",
        "for y in year_interval:\n",
        "  top_genre = 0 # to be filled later\n",
        "  max_val = -1\n",
        "  for genre in all_genres:\n",
        "    num_sales = year_genres[genre][y - 1980]\n",
        "    if num_sales > max_val:\n",
        "      max_val = num_sales\n",
        "      top_genre = genre\n",
        "  top_genres_per_year[y] = top_genre\n",
        "\n",
        "# Create new data frame and export it as CSV file\n",
        "df_dict_2 = {'Year': year_interval, 'Genre': list(top_genres_per_year.values())}\n",
        "df_genres = pd.DataFrame(df_dict_2, columns=['Year', 'Genre'])\n",
        "df_genres.to_csv('years_and_popular_genres.csv')\n",
        "files.download('years_and_popular_genres.csv')\n",
        "\n"
      ],
      "execution_count": 0,
      "outputs": []
    }
  ]
}